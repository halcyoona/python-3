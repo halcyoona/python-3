{
 "cells": [
  {
   "cell_type": "code",
   "execution_count": 12,
   "metadata": {},
   "outputs": [],
   "source": [
    "def fibslow(n):\n",
    "    if n==1 or n==0:\n",
    "        return n\n",
    "    else:\n",
    "        return fibslow(n-1) + fibslow(n-2)\n",
    "    \n",
    "    \n",
    "def fibfast(n):\n",
    "    if n<=1:\n",
    "        return n\n",
    "    a , b = 0, 1\n",
    "    for i in range(0, n):\n",
    "        a, b = b, a+b\n",
    "    return a"
   ]
  },
  {
   "cell_type": "code",
   "execution_count": 32,
   "metadata": {},
   "outputs": [],
   "source": [
    "import numpy as np"
   ]
  },
  {
   "cell_type": "code",
   "execution_count": 40,
   "metadata": {},
   "outputs": [],
   "source": [
    "import matplotlib.pyplot as plt\n",
    "%matplotlib inline"
   ]
  },
  {
   "cell_type": "code",
   "execution_count": 34,
   "metadata": {},
   "outputs": [
    {
     "name": "stdout",
     "output_type": "stream",
     "text": [
      "range(1, 30)\n"
     ]
    }
   ],
   "source": [
    "from_n, to_n = 1, 30\n",
    "x = range(from_n, to_n)\n",
    "print(x)\n",
    "\n",
    "def time_function(fn, start, end):\n",
    "    from datetime import datetime\n",
    "    \n",
    "    times = []\n",
    "    \n",
    "    for i in range (start, end):\n",
    "        start_time = datetime.now()\n",
    "        \n",
    "        _ = fn(i) #actuall call of the function dont care about the function value\n",
    "        \n",
    "        end_time = datetime.now()\n",
    "        time_taken = end_time - start_time \n",
    "        time_taken = time_taken.microseconds\n",
    "        \n",
    "        times.append(time_taken)\n",
    "        \n",
    "    return times\n",
    "        "
   ]
  },
  {
   "cell_type": "code",
   "execution_count": 35,
   "metadata": {},
   "outputs": [
    {
     "data": {
      "text/plain": [
       "range(1, 30)"
      ]
     },
     "execution_count": 35,
     "metadata": {},
     "output_type": "execute_result"
    }
   ],
   "source": [
    "x"
   ]
  },
  {
   "cell_type": "code",
   "execution_count": 36,
   "metadata": {},
   "outputs": [
    {
     "name": "stdout",
     "output_type": "stream",
     "text": [
      "[11, 4, 3, 3, 5, 8, 12, 17, 27, 43, 70, 112, 180, 313, 655, 758, 1245, 2283, 3421, 5716, 15520, 22799, 23018, 36096, 58107, 96949, 151251, 253455, 402441]\n",
      "[6, 3, 2, 2, 3, 2, 3, 3, 3, 3, 3, 2, 3, 3, 4, 4, 4, 3, 3, 3, 3, 4, 4, 4, 4, 4, 4, 4, 5]\n"
     ]
    }
   ],
   "source": [
    "fibslow_time = time_function(fibslow, from_n, to_n)\n",
    "fibfast_time = time_function(fibfast, from_n, to_n)\n",
    "\n",
    "print (fibslow_time)\n",
    "print (fibfast_time)"
   ]
  },
  {
   "cell_type": "code",
   "execution_count": 41,
   "metadata": {},
   "outputs": [
    {
     "data": {
      "text/plain": [
       "<matplotlib.legend.Legend at 0x7f284a10bc50>"
      ]
     },
     "execution_count": 41,
     "metadata": {},
     "output_type": "execute_result"
    },
    {
     "data": {
      "image/png": "[encoded data removed]",
      "text/plain": [
       "<matplotlib.figure.Figure at 0x7f284a1560f0>"
      ]
     },
     "metadata": {},
     "output_type": "display_data"
    }
   ],
   "source": [
    "plt.figure()\n",
    "plt.plot(fibslow_time, label = \"fibslow\")\n",
    "plt.plot(fibfast_time, label = \"fibfast\")\n",
    "plt.xlabel('n')\n",
    "plt.ylabel('time(microseconds)')\n",
    "plt.legend()"
   ]
  },
  {
   "cell_type": "code",
   "execution_count": null,
   "metadata": {
    "collapsed": true
   },
   "outputs": [],
   "source": []
  }
 ],
 "metadata": {
  "kernelspec": {
   "display_name": "Python 3",
   "language": "python",
   "name": "python3"
  },
  "language_info": {
   "codemirror_mode": {
    "name": "ipython",
    "version": 3
   },
   "file_extension": ".py",
   "mimetype": "text/x-python",
   "name": "python",
   "nbconvert_exporter": "python",
   "pygments_lexer": "ipython3",
   "version": "3.6.3"
  }
 },
 "nbformat": 4,
 "nbformat_minor": 2
}
