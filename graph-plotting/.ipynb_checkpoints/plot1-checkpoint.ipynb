{
 "cells": [
  {
   "cell_type": "code",
   "execution_count": 1,
   "metadata": {},
   "outputs": [
    {
     "name": "stdout",
     "output_type": "stream",
     "text": [
      "[  0.           0.25641026   0.51282051   0.76923077   1.02564103\n",
      "   1.28205128   1.53846154   1.79487179   2.05128205   2.30769231\n",
      "   2.56410256   2.82051282   3.07692308   3.33333333   3.58974359\n",
      "   3.84615385   4.1025641    4.35897436   4.61538462   4.87179487\n",
      "   5.12820513   5.38461538   5.64102564   5.8974359    6.15384615\n",
      "   6.41025641   6.66666667   6.92307692   7.17948718   7.43589744\n",
      "   7.69230769   7.94871795   8.20512821   8.46153846   8.71794872\n",
      "   8.97435897   9.23076923   9.48717949   9.74358974  10.        ]\n"
     ]
    }
   ],
   "source": [
    "import numpy as np\n",
    "x = np.linspace(0,10,40)\n",
    "print (x)"
   ]
  },
  {
   "cell_type": "code",
   "execution_count": 3,
   "metadata": {},
   "outputs": [
    {
     "name": "stdout",
     "output_type": "stream",
     "text": [
      "[ 1.          0.9673066   0.87136413  0.71844595  0.51855089  0.28474945\n",
      "  0.03232915 -0.22220504 -0.46220996 -0.67199245 -0.8378355  -0.94889519\n",
      " -0.99790965 -0.981674   -0.90124984 -0.76189584 -0.57272391 -0.3461034\n",
      " -0.0968523   0.15873166  0.40393667  0.62272955  0.80080415  0.92651672\n",
      "  0.99164735  0.99193733  0.9273677   0.80216048  0.62450255  0.40601041\n",
      "  0.16097054 -0.09459467 -0.34397464 -0.57086321 -0.76042487 -0.90026478\n",
      " -0.98123926 -0.99805366 -0.94960852 -0.83907153]\n"
     ]
    }
   ],
   "source": [
    "c = np.cos(x)\n",
    "print (c)"
   ]
  },
  {
   "cell_type": "code",
   "execution_count": 4,
   "metadata": {
    "collapsed": true
   },
   "outputs": [],
   "source": [
    "import matplotlib.pyplot as plt"
   ]
  },
  {
   "cell_type": "code",
   "execution_count": null,
   "metadata": {
    "collapsed": true
   },
   "outputs": [],
   "source": []
  }
 ],
 "metadata": {
  "kernelspec": {
   "display_name": "Python 3",
   "language": "python",
   "name": "python3"
  },
  "language_info": {
   "codemirror_mode": {
    "name": "ipython",
    "version": 3
   },
   "file_extension": ".py",
   "mimetype": "text/x-python",
   "name": "python",
   "nbconvert_exporter": "python",
   "pygments_lexer": "ipython3",
   "version": "3.6.3"
  }
 },
 "nbformat": 4,
 "nbformat_minor": 2
}
