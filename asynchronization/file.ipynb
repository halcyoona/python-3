{
 "cells": [
  {
   "cell_type": "code",
   "execution_count": 1,
   "metadata": {},
   "outputs": [
    {
     "name": "stdout",
     "output_type": "stream",
     "text": [
      "Collecting aiohttp\n",
      "\u001b[33m  Cache entry deserialization failed, entry ignored\u001b[0m\n",
      "\u001b[33m  Cache entry deserialization failed, entry ignored\u001b[0m\n",
      "  Downloading https://files.pythonhosted.org/packages/54/f9/8b47199ceae89a867edc45c43dc908384fd2e1ac22406b60d101d988752b/aiohttp-3.3.2-cp36-cp36m-manylinux1_x86_64.whl (876kB)\n",
      "\u001b[K    100% |████████████████████████████████| 880kB 412kB/s ta 0:00:01\n",
      "\u001b[?25hCollecting async-timeout<4.0,>=3.0 (from aiohttp)\n",
      "\u001b[33m  Cache entry deserialization failed, entry ignored\u001b[0m\n",
      "\u001b[33m  Cache entry deserialization failed, entry ignored\u001b[0m\n",
      "  Downloading https://files.pythonhosted.org/packages/96/0f/e6357458c87fb4ed8f3df215773f3caad40968f10e05552cbd8bd28415e4/async_timeout-3.0.0-py3-none-any.whl\n",
      "Collecting yarl<2.0,>=1.0 (from aiohttp)\n",
      "\u001b[33m  Cache entry deserialization failed, entry ignored\u001b[0m\n",
      "\u001b[33m  Cache entry deserialization failed, entry ignored\u001b[0m\n",
      "  Downloading https://files.pythonhosted.org/packages/61/67/df71b367680e06bb4127e3df6189826d4b9daebf83c3bd5b9341c99ef528/yarl-1.2.6-cp36-cp36m-manylinux1_x86_64.whl (253kB)\n",
      "\u001b[K    100% |████████████████████████████████| 256kB 610kB/s ta 0:00:01\n",
      "\u001b[?25hCollecting idna-ssl>=1.0 (from aiohttp)\n",
      "\u001b[33m  Cache entry deserialization failed, entry ignored\u001b[0m\n",
      "Collecting attrs>=17.3.0 (from aiohttp)\n",
      "\u001b[33m  Cache entry deserialization failed, entry ignored\u001b[0m\n",
      "\u001b[33m  Cache entry deserialization failed, entry ignored\u001b[0m\n",
      "  Downloading https://files.pythonhosted.org/packages/41/59/cedf87e91ed541be7957c501a92102f9cc6363c623a7666d69d51c78ac5b/attrs-18.1.0-py2.py3-none-any.whl\n",
      "Requirement already satisfied: chardet<4.0,>=2.0 in /home/mehmood/anaconda3/lib/python3.6/site-packages (from aiohttp)\n",
      "Collecting multidict<5.0,>=4.0 (from aiohttp)\n",
      "\u001b[33m  Cache entry deserialization failed, entry ignored\u001b[0m\n",
      "\u001b[33m  Cache entry deserialization failed, entry ignored\u001b[0m\n",
      "  Downloading https://files.pythonhosted.org/packages/cc/30/508a22a28dfb50cf9079cd9d0cf9b0d7dbae5afdf9823977351cbd548897/multidict-4.3.1-cp36-cp36m-manylinux1_x86_64.whl (476kB)\n",
      "\u001b[K    100% |████████████████████████████████| 481kB 362kB/s ta 0:00:01\n",
      "\u001b[?25hRequirement already satisfied: idna>=2.0 in /home/mehmood/anaconda3/lib/python3.6/site-packages (from yarl<2.0,>=1.0->aiohttp)\n",
      "Installing collected packages: async-timeout, multidict, yarl, idna-ssl, attrs, aiohttp\n",
      "Successfully installed aiohttp-3.3.2 async-timeout-3.0.0 attrs-18.1.0 idna-ssl-1.1.0 multidict-4.3.1 yarl-1.2.6\n",
      "\u001b[33mYou are using pip version 9.0.1, however version 18.0 is available.\n",
      "You should consider upgrading via the 'pip install --upgrade pip' command.\u001b[0m\n"
     ]
    }
   ],
   "source": [
    "!pip install aiohttp"
   ]
  },
  {
   "cell_type": "code",
   "execution_count": 2,
   "metadata": {
    "collapsed": true
   },
   "outputs": [],
   "source": [
    "gists = ['https://gist.github.com/recluze/1d2989c7e345c8c3c542',\n",
    "'https://gist.github.com/recluze/a98aa1804884ca3b3ad3',\n",
    "'https://gist.github.com/recluze/5051735efe3fc189b90d',\n",
    "'https://gist.github.com/recluze/460157afc6a7492555bb',\n",
    "'https://gist.github.com/recluze/5051735efe3fc189b90d',\n",
    "'https://gist.github.com/recluze/c9bc4130af995c36176d']"
   ]
  },
  {
   "cell_type": "code",
   "execution_count": 3,
   "metadata": {
    "collapsed": true
   },
   "outputs": [],
   "source": [
    "import aiohttp\n",
    "import asyncio"
   ]
  },
  {
   "cell_type": "code",
   "execution_count": 5,
   "metadata": {
    "collapsed": true
   },
   "outputs": [],
   "source": [
    "async def get_gist(url):\n",
    "    print(\"Get :\", url)\n",
    "    async with aiohttp.ClientSession() as session:\n",
    "        async with session.get(url) as response:\n",
    "            page_text =  await response.text()       # culprit\n",
    "            g_length = len(page_text)\n",
    "            print(\"Len : %d\" %g_length)\n",
    "            \n",
    "    "
   ]
  },
  {
   "cell_type": "code",
   "execution_count": 6,
   "metadata": {},
   "outputs": [],
   "source": [
    "#Set the event loop\n",
    "asyncio.set_event_loop(asyncio.new_event_loop())\n",
    "loop = asyncio.get_event_loop()"
   ]
  },
  {
   "cell_type": "code",
   "execution_count": 7,
   "metadata": {},
   "outputs": [],
   "source": [
    "#Add tasks  to run\n",
    "tasks = []\n",
    "for g in gists:\n",
    "    future = asyncio.ensure_future(get_gist(g))\n",
    "    tasks.append(future)     #save it for late reference\n",
    "    \n",
    "    \n",
    "#We are not running anything till now"
   ]
  },
  {
   "cell_type": "code",
   "execution_count": 8,
   "metadata": {},
   "outputs": [
    {
     "name": "stdout",
     "output_type": "stream",
     "text": [
      "Get : https://gist.github.com/recluze/1d2989c7e345c8c3c542\n",
      "Get : https://gist.github.com/recluze/a98aa1804884ca3b3ad3\n",
      "Get : https://gist.github.com/recluze/5051735efe3fc189b90d\n",
      "Get : https://gist.github.com/recluze/460157afc6a7492555bb\n",
      "Get : https://gist.github.com/recluze/5051735efe3fc189b90d\n",
      "Get : https://gist.github.com/recluze/c9bc4130af995c36176d\n",
      "Len : 37761\n",
      "Len : 59867\n",
      "Len : 37759\n",
      "Len : 41173\n",
      "Len : 103836\n",
      "Len : 225761\n",
      "CPU times: user 169 ms, sys: 21.2 ms, total: 191 ms\n",
      "Wall time: 9.56 s\n"
     ]
    },
    {
     "data": {
      "text/plain": [
       "({<Task finished coro=<get_gist() done, defined at <ipython-input-5-9f26808fc397>:1> result=None>,\n",
       "  <Task finished coro=<get_gist() done, defined at <ipython-input-5-9f26808fc397>:1> result=None>,\n",
       "  <Task finished coro=<get_gist() done, defined at <ipython-input-5-9f26808fc397>:1> result=None>,\n",
       "  <Task finished coro=<get_gist() done, defined at <ipython-input-5-9f26808fc397>:1> result=None>,\n",
       "  <Task finished coro=<get_gist() done, defined at <ipython-input-5-9f26808fc397>:1> result=None>,\n",
       "  <Task finished coro=<get_gist() done, defined at <ipython-input-5-9f26808fc397>:1> result=None>},\n",
       " set())"
      ]
     },
     "execution_count": 8,
     "metadata": {},
     "output_type": "execute_result"
    }
   ],
   "source": [
    "#GO\n",
    "%time loop.run_until_complete(asyncio.wait(tasks))"
   ]
  },
  {
   "cell_type": "code",
   "execution_count": 10,
   "metadata": {},
   "outputs": [],
   "source": [
    "loop.close()"
   ]
  },
  {
   "cell_type": "code",
   "execution_count": 14,
   "metadata": {},
   "outputs": [],
   "source": [
    "tasks[0].result()    #After the loop is done we can get the return values"
   ]
  },
  {
   "cell_type": "code",
   "execution_count": null,
   "metadata": {
    "collapsed": true
   },
   "outputs": [],
   "source": []
  }
 ],
 "metadata": {
  "kernelspec": {
   "display_name": "Python 3",
   "language": "python",
   "name": "python3"
  },
  "language_info": {
   "codemirror_mode": {
    "name": "ipython",
    "version": 3
   },
   "file_extension": ".py",
   "mimetype": "text/x-python",
   "name": "python",
   "nbconvert_exporter": "python",
   "pygments_lexer": "ipython3",
   "version": "3.6.3"
  }
 },
 "nbformat": 4,
 "nbformat_minor": 2
}
