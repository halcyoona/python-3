{
 "cells": [
  {
   "cell_type": "code",
   "execution_count": 42,
   "metadata": {},
   "outputs": [],
   "source": [
    "import threading\n",
    "import time"
   ]
  },
  {
   "cell_type": "code",
   "execution_count": 43,
   "metadata": {},
   "outputs": [],
   "source": [
    "num_threads = 5\n",
    "iteration_in_one_thread = 100"
   ]
  },
  {
   "cell_type": "code",
   "execution_count": 44,
   "metadata": {},
   "outputs": [],
   "source": [
    "counter = 0 # just a variable"
   ]
  },
  {
   "cell_type": "code",
   "execution_count": 45,
   "metadata": {},
   "outputs": [],
   "source": [
    "def f():\n",
    "    global counter\n",
    "    \n",
    "    for i in range(iteration_in_one_thread):\n",
    "        v = counter\n",
    "        time.sleep(0.000000000001)\n",
    "        v += 1\n",
    "        counter = v\n",
    "        "
   ]
  },
  {
   "cell_type": "code",
   "execution_count": 46,
   "metadata": {},
   "outputs": [],
   "source": [
    "def run_experiment():\n",
    "    global counter\n",
    "    counter = 0\n",
    "    threads = []\n",
    "    for i in range(num_threads):\n",
    "        t = threading.Thread(target=f)\n",
    "        threads.append(t)\n",
    "        t.start()\n",
    "    for i in threads:\n",
    "        i.join()\n",
    "    \n",
    "    print(\"calculated Value : %d\" % counter)\n",
    "    print(\" expected Value : %d\" % (num_threads * iteration_in_one_thread))"
   ]
  },
  {
   "cell_type": "code",
   "execution_count": 47,
   "metadata": {},
   "outputs": [
    {
     "name": "stdout",
     "output_type": "stream",
     "text": [
      "calculated Value : 170\n",
      " expected Value : 500\n"
     ]
    }
   ],
   "source": [
    "run_experiment()"
   ]
  },
  {
   "cell_type": "code",
   "execution_count": 48,
   "metadata": {},
   "outputs": [
    {
     "name": "stdout",
     "output_type": "stream",
     "text": [
      "2\n"
     ]
    }
   ],
   "source": [
    "# This we will expecting\n",
    "\n",
    "counter  = 0\n",
    "\n",
    "\n",
    "v1 = counter    #this is done by first thread\n",
    "v1 += 1\n",
    "counter = v1\n",
    "\n",
    "\n",
    "v2 = counter\n",
    "v2 += 1\n",
    "counter = v2\n",
    "\n",
    "print (counter)\n",
    "\n"
   ]
  },
  {
   "cell_type": "code",
   "execution_count": 49,
   "metadata": {},
   "outputs": [
    {
     "name": "stdout",
     "output_type": "stream",
     "text": [
      "1\n"
     ]
    }
   ],
   "source": [
    "#this is what actually happens\n",
    "\n",
    "\n",
    "counter = 0\n",
    "\n",
    "#thread 1 start\n",
    "v1 = counter \n",
    "v1 += 1\n",
    "#---- break\n",
    "\n",
    "\n",
    "#thread 2 start\n",
    "v2 = counter\n",
    "v2 += 1\n",
    "counter = v2\n",
    "#thread 2 done\n",
    "\n",
    "#----back to thread 1\n",
    "counter = v1\n",
    "#--- thread 1 done\n",
    "\n",
    "print(counter)\n",
    "\n"
   ]
  },
  {
   "cell_type": "code",
   "execution_count": 51,
   "metadata": {},
   "outputs": [],
   "source": [
    "# what we need to do is ensure that critical sections are executed all in one go\n",
    "# we can remove this problem by using locks\n",
    "\n",
    "lock = threading.Lock()"
   ]
  },
  {
   "cell_type": "code",
   "execution_count": 57,
   "metadata": {},
   "outputs": [],
   "source": [
    "def f():\n",
    "    global counter\n",
    "    \n",
    "    for i in range(iteration_in_one_thread):\n",
    "        lock.acquire()   # critical part start\n",
    "        v = counter\n",
    "        time.sleep(0.000000000001)\n",
    "        v += 1\n",
    "        counter = v\n",
    "        lock.release() #critical part ends"
   ]
  },
  {
   "cell_type": "code",
   "execution_count": 58,
   "metadata": {},
   "outputs": [
    {
     "name": "stdout",
     "output_type": "stream",
     "text": [
      "calculated Value : 500\n",
      " expected Value : 500\n"
     ]
    }
   ],
   "source": [
    "run_experiment()"
   ]
  },
  {
   "cell_type": "raw",
   "metadata": {},
   "source": []
  },
  {
   "cell_type": "code",
   "execution_count": null,
   "metadata": {},
   "outputs": [],
   "source": []
  },
  {
   "cell_type": "code",
   "execution_count": 59,
   "metadata": {},
   "outputs": [],
   "source": [
    "def f():\n",
    "    global counter\n",
    "    \n",
    "    for i in range(iteration_in_one_thread):\n",
    "        with lock:\n",
    "            v = counter\n",
    "            time.sleep(0.000000000001)\n",
    "            v += 1\n",
    "            counter = v"
   ]
  },
  {
   "cell_type": "code",
   "execution_count": 60,
   "metadata": {},
   "outputs": [
    {
     "name": "stdout",
     "output_type": "stream",
     "text": [
      "calculated Value : 500\n",
      " expected Value : 500\n"
     ]
    }
   ],
   "source": [
    "run_experiment()"
   ]
  },
  {
   "cell_type": "code",
   "execution_count": null,
   "metadata": {},
   "outputs": [],
   "source": []
  }
 ],
 "metadata": {
  "kernelspec": {
   "display_name": "Python 3",
   "language": "python",
   "name": "python3"
  },
  "language_info": {
   "codemirror_mode": {
    "name": "ipython",
    "version": 3
   },
   "file_extension": ".py",
   "mimetype": "text/x-python",
   "name": "python",
   "nbconvert_exporter": "python",
   "pygments_lexer": "ipython3",
   "version": "3.5.2"
  }
 },
 "nbformat": 4,
 "nbformat_minor": 2
}
