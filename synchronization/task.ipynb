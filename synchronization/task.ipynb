{
 "cells": [
  {
   "cell_type": "code",
   "execution_count": 27,
   "metadata": {},
   "outputs": [],
   "source": [
    "import time\n",
    "import threading\n",
    "global balance\n",
    "balance = 10000\n",
    "num_threads = 1010"
   ]
  },
  {
   "cell_type": "code",
   "execution_count": 28,
   "metadata": {},
   "outputs": [],
   "source": [
    "\n",
    "def fun():\n",
    "    global balance\n",
    "    if balance < 10:\n",
    "        return print(\"You have insufficient balance\")\n",
    "    else:\n",
    "        time.sleep(1)\n",
    "        balance -= 10\n",
    "\n"
   ]
  },
  {
   "cell_type": "code",
   "execution_count": 29,
   "metadata": {},
   "outputs": [],
   "source": [
    "def run_experiment():\n",
    "    threads = []\n",
    "    for i in range(num_threads):\n",
    "        t = threading.Thread(target=fun)\n",
    "        threads.append(t)\n",
    "        t.start()\n",
    "    for i in threads:\n",
    "        i.join()\n",
    "    \n",
    "    print(\"Balance : %d\" % balance)"
   ]
  },
  {
   "cell_type": "code",
   "execution_count": 30,
   "metadata": {},
   "outputs": [
    {
     "name": "stdout",
     "output_type": "stream",
     "text": [
      "Balance : -100\n"
     ]
    }
   ],
   "source": [
    "run_experiment()"
   ]
  },
  {
   "cell_type": "code",
   "execution_count": 31,
   "metadata": {},
   "outputs": [],
   "source": [
    "global balance\n",
    "balance = 10000\n",
    "num_threads = 1010"
   ]
  },
  {
   "cell_type": "code",
   "execution_count": 32,
   "metadata": {},
   "outputs": [],
   "source": [
    "lock = threading.Lock()\n",
    "def fun():\n",
    "    global balance\n",
    "    with lock:\n",
    "        if balance < 10:\n",
    "            return print(\"You have insufficient balance\")\n",
    "        else:\n",
    "            var = balance\n",
    "            time.sleep(0.000001)\n",
    "            var -= 10\n",
    "            balance = var"
   ]
  },
  {
   "cell_type": "code",
   "execution_count": 33,
   "metadata": {},
   "outputs": [
    {
     "name": "stdout",
     "output_type": "stream",
     "text": [
      "You have insufficient balance\n",
      "You have insufficient balance\n",
      "You have insufficient balance\n",
      "You have insufficient balance\n",
      "You have insufficient balance\n",
      "You have insufficient balance\n",
      "You have insufficient balance\n",
      "You have insufficient balance\n",
      "You have insufficient balance\n",
      "You have insufficient balance\n",
      "Balance : 0\n"
     ]
    }
   ],
   "source": [
    "run_experiment()"
   ]
  },
  {
   "cell_type": "code",
   "execution_count": null,
   "metadata": {},
   "outputs": [],
   "source": []
  }
 ],
 "metadata": {
  "kernelspec": {
   "display_name": "Python 3",
   "language": "python",
   "name": "python3"
  },
  "language_info": {
   "codemirror_mode": {
    "name": "ipython",
    "version": 3
   },
   "file_extension": ".py",
   "mimetype": "text/x-python",
   "name": "python",
   "nbconvert_exporter": "python",
   "pygments_lexer": "ipython3",
   "version": "3.5.2"
  }
 },
 "nbformat": 4,
 "nbformat_minor": 2
}
