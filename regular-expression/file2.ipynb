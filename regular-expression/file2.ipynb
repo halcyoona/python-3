{
 "cells": [
  {
   "cell_type": "code",
   "execution_count": 2,
   "metadata": {},
   "outputs": [],
   "source": [
    "import re"
   ]
  },
  {
   "cell_type": "code",
   "execution_count": 28,
   "metadata": {},
   "outputs": [],
   "source": [
    "text = \"\"\"03-02-2025 10:22pm: My email address is testuser@gmail.com and I check\n",
    "it often. You should send me an email!\"\"\""
   ]
  },
  {
   "cell_type": "code",
   "execution_count": 4,
   "metadata": {},
   "outputs": [],
   "source": [
    "haystack = \"Date: 03-02-2025\""
   ]
  },
  {
   "cell_type": "code",
   "execution_count": 5,
   "metadata": {},
   "outputs": [
    {
     "name": "stdout",
     "output_type": "stream",
     "text": [
      "Found!\n",
      "Date: 03\n"
     ]
    }
   ],
   "source": [
    "str_date = \".*?\"      # You can also use: \".*\\s\"\n",
    "str_day = \"\\d{2}\"\n",
    "\n",
    "\n",
    "# needle = \".*?\\d{2}\"\n",
    "needle = str_date + str_day\n",
    "res = re.match(needle, haystack)\n",
    "if res:\n",
    "    print(\"Found!\")\n",
    "    print(res.group(0))\n",
    "else:\n",
    "    print(\"Not found!\")"
   ]
  },
  {
   "cell_type": "code",
   "execution_count": 15,
   "metadata": {},
   "outputs": [
    {
     "name": "stdout",
     "output_type": "stream",
     "text": [
      "03-02-2025 10:22pm: My email address is testuser@gmail.com and I check\n",
      "it often. You should send me an email!\n"
     ]
    }
   ],
   "source": [
    "haystack = text\n",
    "print(haystack)"
   ]
  },
  {
   "cell_type": "code",
   "execution_count": 16,
   "metadata": {},
   "outputs": [
    {
     "name": "stdout",
     "output_type": "stream",
     "text": [
      "Found!\n",
      "03-02-2025 10:22pm\n"
     ]
    }
   ],
   "source": [
    "str_day = \"\\d{2}-\\d{2}-\\d{4}\"\n",
    "\n",
    "str_time = \"\\d{2}:\\d{2}pm\"\n",
    "\n",
    "needle = str_day + \"\\s\" + str_time\n",
    "\n",
    "res = re.match(needle, haystack)\n",
    "if res:\n",
    "    print(\"Found!\")\n",
    "    print(res.group(0))\n",
    "else:\n",
    "    print(\"Not found!\")"
   ]
  },
  {
   "cell_type": "code",
   "execution_count": 18,
   "metadata": {},
   "outputs": [
    {
     "name": "stdout",
     "output_type": "stream",
     "text": [
      "Not found!\n"
     ]
    }
   ],
   "source": [
    "text = \"\"\"03-02-2025 10:22am: My email address is testuser@gmail.com and I check\n",
    "it often. You should send me an email!\"\"\"\n",
    "\n",
    "haystack = text\n",
    "\n",
    "str_day = \"\\d{2}-\\d{2}-\\d{4}\"\n",
    "\n",
    "str_time = \"\\d{2}:\\d{2}pm\"\n",
    "\n",
    "needle = str_day + \"\\s\" + str_time\n",
    "\n",
    "res = re.match(needle, haystack)\n",
    "if res:\n",
    "    print(\"Found!\")\n",
    "    print(res.group(0))\n",
    "else:\n",
    "    print(\"Not found!\")"
   ]
  },
  {
   "cell_type": "code",
   "execution_count": 20,
   "metadata": {},
   "outputs": [
    {
     "name": "stdout",
     "output_type": "stream",
     "text": [
      "Found!\n",
      "03-02-2025 10:22am\n"
     ]
    }
   ],
   "source": [
    "text = \"\"\"03-02-2025 10:22am: My email address is testuser@gmail.com and I check\n",
    "it often. You should send me an email!\"\"\"\n",
    "\n",
    "haystack = text\n",
    "\n",
    "str_day = \"\\d{2}-\\d{2}-\\d{4}\"\n",
    "\n",
    "str_time = \"\\d{2}:\\d{2}[apAP][mM]\"\n",
    "\n",
    "needle = str_day + \"\\s\" + str_time\n",
    "\n",
    "res = re.match(needle, haystack)\n",
    "if res:\n",
    "    print(\"Found!\")\n",
    "    print(res.group(0))\n",
    "else:\n",
    "    print(\"Not found!\")"
   ]
  },
  {
   "cell_type": "code",
   "execution_count": 26,
   "metadata": {},
   "outputs": [
    {
     "name": "stdout",
     "output_type": "stream",
     "text": [
      "Found!\n",
      "03-02-2025 10:22am: My email address is testuser@gmail.com \n"
     ]
    }
   ],
   "source": [
    "text = \"\"\"03-02-2025 10:22am: My email address is testuser@gmail.com and I check\n",
    "it often. You should send me an email!\"\"\"\n",
    "\n",
    "haystack = text\n",
    "\n",
    "str_prefix = \".*\"\n",
    "\n",
    "str_username = \"[a-zA-Z0-9.]*\"\n",
    "\n",
    "str_domain = \".*\\..*?\"\n",
    "\n",
    "str_email = str_username + \"@\" + str_domain\n",
    "\n",
    "needle = str_prefix + \"\\s\" + str_email +\"\\s\"\n",
    "\n",
    "res = re.match(needle, haystack)\n",
    "if res:\n",
    "    print(\"Found!\")\n",
    "    print(res.group(0))\n",
    "else:\n",
    "    print(\"Not found!\")\n"
   ]
  },
  {
   "cell_type": "code",
   "execution_count": 27,
   "metadata": {},
   "outputs": [
    {
     "name": "stdout",
     "output_type": "stream",
     "text": [
      ".*\\s[a-zA-Z0-9.]*@.*\\..*?\\s\n"
     ]
    }
   ],
   "source": [
    "print(needle)"
   ]
  },
  {
   "cell_type": "code",
   "execution_count": null,
   "metadata": {},
   "outputs": [],
   "source": []
  }
 ],
 "metadata": {
  "kernelspec": {
   "display_name": "Python 3",
   "language": "python",
   "name": "python3"
  },
  "language_info": {
   "codemirror_mode": {
    "name": "ipython",
    "version": 3
   },
   "file_extension": ".py",
   "mimetype": "text/x-python",
   "name": "python",
   "nbconvert_exporter": "python",
   "pygments_lexer": "ipython3",
   "version": "3.5.2"
  }
 },
 "nbformat": 4,
 "nbformat_minor": 2
}
