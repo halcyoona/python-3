{
 "cells": [
  {
   "cell_type": "code",
   "execution_count": 1,
   "metadata": {},
   "outputs": [],
   "source": [
    "text = \"\"\"03-02-2025 10:22pm: My email address is testuser@gmail.com and I check\n",
    "it often. You should send me an email!\"\"\""
   ]
  },
  {
   "cell_type": "code",
   "execution_count": 2,
   "metadata": {},
   "outputs": [],
   "source": [
    "haystack = \"Date: 03-02-2025\""
   ]
  },
  {
   "cell_type": "code",
   "execution_count": 3,
   "metadata": {},
   "outputs": [],
   "source": [
    "needle = \"Da\""
   ]
  },
  {
   "cell_type": "code",
   "execution_count": 4,
   "metadata": {},
   "outputs": [],
   "source": [
    "import re"
   ]
  },
  {
   "cell_type": "code",
   "execution_count": 5,
   "metadata": {},
   "outputs": [
    {
     "data": {
      "text/plain": [
       "<_sre.SRE_Match object; span=(0, 2), match='Da'>"
      ]
     },
     "execution_count": 5,
     "metadata": {},
     "output_type": "execute_result"
    }
   ],
   "source": [
    "re.match(needle, haystack)"
   ]
  },
  {
   "cell_type": "code",
   "execution_count": 6,
   "metadata": {},
   "outputs": [],
   "source": [
    "match = re.match(needle, haystack)"
   ]
  },
  {
   "cell_type": "code",
   "execution_count": 7,
   "metadata": {},
   "outputs": [
    {
     "data": {
      "text/plain": [
       "'Da'"
      ]
     },
     "execution_count": 7,
     "metadata": {},
     "output_type": "execute_result"
    }
   ],
   "source": [
    "match.group(0)"
   ]
  },
  {
   "cell_type": "code",
   "execution_count": 17,
   "metadata": {},
   "outputs": [],
   "source": [
    "needle = 'Date: \\d\\d'   #\\d matched any digit"
   ]
  },
  {
   "cell_type": "code",
   "execution_count": 18,
   "metadata": {},
   "outputs": [
    {
     "name": "stdout",
     "output_type": "stream",
     "text": [
      "found!\n",
      "Date: 03\n"
     ]
    }
   ],
   "source": [
    "res = re.match(needle, haystack)\n",
    "if res:\n",
    "    print(\"found!\")\n",
    "    print(res.group(0))\n",
    "else:\n",
    "    print(\"Not found\")"
   ]
  },
  {
   "cell_type": "code",
   "execution_count": 20,
   "metadata": {},
   "outputs": [
    {
     "name": "stdout",
     "output_type": "stream",
     "text": [
      "found!\n",
      "Date: 0\n"
     ]
    }
   ],
   "source": [
    "needle = \"......\\d\"   #dot matches any thing\n",
    "res = re.match(needle, haystack)\n",
    "if res:\n",
    "    print(\"found!\")\n",
    "    print(res.group(0))\n",
    "else:\n",
    "    print(\"Not found\")\n"
   ]
  },
  {
   "cell_type": "code",
   "execution_count": 22,
   "metadata": {},
   "outputs": [
    {
     "name": "stdout",
     "output_type": "stream",
     "text": [
      "found!\n",
      "Date: 03\n"
     ]
    }
   ],
   "source": [
    "needle = \".....\\s\\d\\d\"   #\\s matches space\n",
    "res = re.match(needle, haystack)\n",
    "if res:\n",
    "    print(\"found!\")\n",
    "    print(res.group(0))\n",
    "else:\n",
    "    print(\"Not found\")\n"
   ]
  },
  {
   "cell_type": "code",
   "execution_count": 23,
   "metadata": {},
   "outputs": [
    {
     "name": "stdout",
     "output_type": "stream",
     "text": [
      "found!\n",
      "Date: 03\n"
     ]
    }
   ],
   "source": [
    "needle = \".{5}\\s\\d{2}\"  \n",
    "res = re.match(needle, haystack)\n",
    "if res:\n",
    "    print(\"found!\")\n",
    "    print(res.group(0))\n",
    "else:\n",
    "    print(\"Not found\")\n"
   ]
  },
  {
   "cell_type": "code",
   "execution_count": 24,
   "metadata": {},
   "outputs": [
    {
     "name": "stdout",
     "output_type": "stream",
     "text": [
      "found!\n",
      "Date: 03-02-2025\n"
     ]
    }
   ],
   "source": [
    "needle = \".*\\d{2}\"  #.* means any thing any number of time and two digits\n",
    "res = re.match(needle, haystack)\n",
    "if res:\n",
    "    print(\"found!\")\n",
    "    print(res.group(0))\n",
    "else:\n",
    "    print(\"Not found\")\n"
   ]
  },
  {
   "cell_type": "code",
   "execution_count": 26,
   "metadata": {},
   "outputs": [
    {
     "name": "stdout",
     "output_type": "stream",
     "text": [
      "found!\n",
      "Date: 03\n"
     ]
    }
   ],
   "source": [
    "needle = \".*?\\d{2}\"  #.*? means any thing any number of time but not too greedy\n",
    "res = re.match(needle, haystack)\n",
    "if res:\n",
    "    print(\"found!\")\n",
    "    print(res.group(0))\n",
    "else:\n",
    "    print(\"Not found\")\n"
   ]
  },
  {
   "cell_type": "code",
   "execution_count": null,
   "metadata": {},
   "outputs": [],
   "source": []
  }
 ],
 "metadata": {
  "kernelspec": {
   "display_name": "Python 3",
   "language": "python",
   "name": "python3"
  },
  "language_info": {
   "codemirror_mode": {
    "name": "ipython",
    "version": 3
   },
   "file_extension": ".py",
   "mimetype": "text/x-python",
   "name": "python",
   "nbconvert_exporter": "python",
   "pygments_lexer": "ipython3",
   "version": "3.6.5"
  }
 },
 "nbformat": 4,
 "nbformat_minor": 2
}
