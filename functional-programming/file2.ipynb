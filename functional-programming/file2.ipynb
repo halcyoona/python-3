{
 "cells": [
  {
   "cell_type": "code",
   "execution_count": 1,
   "metadata": {},
   "outputs": [],
   "source": [
    "#Great intro here: \n",
    "#https://www.codenewbie.org/blogs/object-oriented-programming-vs-functional-programming \n",
    "#(https://www.codenewbie.org/blogs/object-oriented-programming-vs-functional-programming)"
   ]
  },
  {
   "cell_type": "code",
   "execution_count": 2,
   "metadata": {},
   "outputs": [
    {
     "name": "stdout",
     "output_type": "stream",
     "text": [
      "<filter object at 0x7f7568888080>\n"
     ]
    }
   ],
   "source": [
    "#Filter\n",
    "x = filter(str.isalpha ,['2','3','a','b','5'])\n",
    "print(x)"
   ]
  },
  {
   "cell_type": "code",
   "execution_count": 3,
   "metadata": {},
   "outputs": [
    {
     "data": {
      "text/plain": [
       "['a', 'b']"
      ]
     },
     "execution_count": 3,
     "metadata": {},
     "output_type": "execute_result"
    }
   ],
   "source": [
    "list(x)"
   ]
  },
  {
   "cell_type": "code",
   "execution_count": 4,
   "metadata": {},
   "outputs": [],
   "source": [
    "#Reduce\n",
    "from functools import reduce"
   ]
  },
  {
   "cell_type": "code",
   "execution_count": 5,
   "metadata": {},
   "outputs": [],
   "source": [
    "def add(x,y):\n",
    "    return x+y"
   ]
  },
  {
   "cell_type": "code",
   "execution_count": 6,
   "metadata": {},
   "outputs": [
    {
     "data": {
      "text/plain": [
       "10"
      ]
     },
     "execution_count": 6,
     "metadata": {},
     "output_type": "execute_result"
    }
   ],
   "source": [
    "reduce(add,[2,3,5],0)"
   ]
  },
  {
   "cell_type": "code",
   "execution_count": 7,
   "metadata": {},
   "outputs": [],
   "source": [
    "lines = [\n",
    "\"A cow is a domestic animal. A cow is a very useful animal.\",\n",
    "\"A cow is kept in barns. Cow milk is very healty.\",\n",
    "\"Another cow.\"\n",
    "]"
   ]
  },
  {
   "cell_type": "code",
   "execution_count": 8,
   "metadata": {},
   "outputs": [],
   "source": [
    "#let count words in all these three lines"
   ]
  },
  {
   "cell_type": "code",
   "execution_count": 9,
   "metadata": {},
   "outputs": [],
   "source": [
    "from collections import defaultdict\n",
    "def count_words(s):    #takes in a single string \n",
    "    counts = defaultdict(int)    # initialize keys not already present\n",
    "    \n",
    "    for word in s.split():\n",
    "        counts[word] += 1\n",
    "    \n",
    "    return dict(counts)     # don't want to send back the default dict\n",
    "\n",
    "\n",
    "#see more about collection here:\n",
    "#https://docs.python.org/dev/library/collections.html"
   ]
  },
  {
   "cell_type": "code",
   "execution_count": 10,
   "metadata": {},
   "outputs": [
    {
     "data": {
      "text/plain": [
       "{'A': 2,\n",
       " 'a': 2,\n",
       " 'animal.': 2,\n",
       " 'cow': 2,\n",
       " 'domestic': 1,\n",
       " 'is': 2,\n",
       " 'useful': 1,\n",
       " 'very': 1}"
      ]
     },
     "execution_count": 10,
     "metadata": {},
     "output_type": "execute_result"
    }
   ],
   "source": [
    "dict(count_words(lines[0]))"
   ]
  },
  {
   "cell_type": "code",
   "execution_count": 11,
   "metadata": {},
   "outputs": [
    {
     "data": {
      "text/plain": [
       "[{'A': 2,\n",
       "  'a': 2,\n",
       "  'animal.': 2,\n",
       "  'cow': 2,\n",
       "  'domestic': 1,\n",
       "  'is': 2,\n",
       "  'useful': 1,\n",
       "  'very': 1},\n",
       " {'A': 1,\n",
       "  'Cow': 1,\n",
       "  'barns.': 1,\n",
       "  'cow': 1,\n",
       "  'healty.': 1,\n",
       "  'in': 1,\n",
       "  'is': 2,\n",
       "  'kept': 1,\n",
       "  'milk': 1,\n",
       "  'very': 1},\n",
       " {'Another': 1, 'cow.': 1}]"
      ]
     },
     "execution_count": 11,
     "metadata": {},
     "output_type": "execute_result"
    }
   ],
   "source": [
    "list(map(count_words,lines))"
   ]
  },
  {
   "cell_type": "code",
   "execution_count": 12,
   "metadata": {},
   "outputs": [],
   "source": [
    "counts_map = list(map(count_words,lines))"
   ]
  },
  {
   "cell_type": "code",
   "execution_count": 13,
   "metadata": {},
   "outputs": [],
   "source": [
    "def reduce_counts(x, y):\n",
    "    print('x:', x)\n",
    "    print('y:', y)\n",
    "    print('-----')\n",
    "    return {'word': 0}"
   ]
  },
  {
   "cell_type": "code",
   "execution_count": 14,
   "metadata": {},
   "outputs": [
    {
     "name": "stdout",
     "output_type": "stream",
     "text": [
      "x: {}\n",
      "y: {'useful': 1, 'animal.': 2, 'A': 2, 'very': 1, 'is': 2, 'cow': 2, 'domestic': 1, 'a': 2}\n",
      "-----\n",
      "x: {'word': 0}\n",
      "y: {'barns.': 1, 'milk': 1, 'very': 1, 'is': 2, 'in': 1, 'cow': 1, 'kept': 1, 'healty.': 1, 'Cow': 1, 'A': 1}\n",
      "-----\n",
      "x: {'word': 0}\n",
      "y: {'cow.': 1, 'Another': 1}\n",
      "-----\n"
     ]
    },
    {
     "data": {
      "text/plain": [
       "{'word': 0}"
      ]
     },
     "execution_count": 14,
     "metadata": {},
     "output_type": "execute_result"
    }
   ],
   "source": [
    "reduce(reduce_counts,counts_map,{})"
   ]
  },
  {
   "cell_type": "code",
   "execution_count": 15,
   "metadata": {},
   "outputs": [],
   "source": [
    "from collections import Counter\n",
    "def reduce_counts(x, y):\n",
    "    counter = Counter()   #{key:value} where value is not count \n",
    "    \n",
    "    counter.update(x)    #Get numbers from x\n",
    "    counter.update(y)    #Add counts from y\n",
    "    return dict(counter)"
   ]
  },
  {
   "cell_type": "code",
   "execution_count": 17,
   "metadata": {},
   "outputs": [
    {
     "data": {
      "text/plain": [
       "{'A': 3,\n",
       " 'Another': 1,\n",
       " 'Cow': 1,\n",
       " 'a': 2,\n",
       " 'animal.': 2,\n",
       " 'barns.': 1,\n",
       " 'cow': 3,\n",
       " 'cow.': 1,\n",
       " 'domestic': 1,\n",
       " 'healty.': 1,\n",
       " 'in': 1,\n",
       " 'is': 4,\n",
       " 'kept': 1,\n",
       " 'milk': 1,\n",
       " 'useful': 1,\n",
       " 'very': 2}"
      ]
     },
     "execution_count": 17,
     "metadata": {},
     "output_type": "execute_result"
    }
   ],
   "source": [
    "reduce(reduce_counts,counts_map,{})"
   ]
  },
  {
   "cell_type": "code",
   "execution_count": null,
   "metadata": {},
   "outputs": [],
   "source": [
    "#Hadoop and spark are used for big data processing"
   ]
  }
 ],
 "metadata": {
  "kernelspec": {
   "display_name": "Python 3",
   "language": "python",
   "name": "python3"
  },
  "language_info": {
   "codemirror_mode": {
    "name": "ipython",
    "version": 3
   },
   "file_extension": ".py",
   "mimetype": "text/x-python",
   "name": "python",
   "nbconvert_exporter": "python",
   "pygments_lexer": "ipython3",
   "version": "3.5.2"
  }
 },
 "nbformat": 4,
 "nbformat_minor": 2
}
