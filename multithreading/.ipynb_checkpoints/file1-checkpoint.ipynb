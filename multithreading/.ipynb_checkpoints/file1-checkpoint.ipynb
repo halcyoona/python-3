{
 "cells": [
  {
   "cell_type": "code",
   "execution_count": 9,
   "metadata": {},
   "outputs": [
    {
     "name": "stdout",
     "output_type": "stream",
     "text": [
      "/usr/local/lib/python2.7/dist-packages/pip/_vendor/requests/__init__.py:83: RequestsDependencyWarning: Old version of cryptography ([1, 2, 3]) may cause slowdown.\n",
      "  warnings.warn(warning, RequestsDependencyWarning)\n",
      "Requirement already satisfied: requests in /usr/local/lib/python2.7/dist-packages (2.18.4)\n",
      "Requirement already satisfied: certifi>=2017.4.17 in /usr/local/lib/python2.7/dist-packages (from requests) (2018.1.18)\n",
      "Requirement already satisfied: chardet<3.1.0,>=3.0.2 in /usr/local/lib/python2.7/dist-packages (from requests) (3.0.4)\n",
      "Requirement already satisfied: idna<2.7,>=2.5 in /usr/local/lib/python2.7/dist-packages (from requests) (2.6)\n",
      "Requirement already satisfied: urllib3<1.23,>=1.21.1 in /usr/local/lib/python2.7/dist-packages (from requests) (1.22)\n"
     ]
    }
   ],
   "source": [
    "!pip install requests\n",
    "import requests"
   ]
  },
  {
   "cell_type": "code",
   "execution_count": 15,
   "metadata": {},
   "outputs": [],
   "source": [
    "import time\n",
    "from contextlib import contextmanager # import the decorator\n",
    "\n",
    "@contextmanager\n",
    "def timeit():\n",
    "    start_time = int(round(time.time() * 1000))\n",
    "    \n",
    "    yield   # Remember this from generator \n",
    "\n",
    "    end_time = int(round(time.time() * 1000))\n",
    "    elapsed = end_time - start_time\n",
    "    print(\"code took %d ms to run.\" % elapsed)"
   ]
  },
  {
   "cell_type": "code",
   "execution_count": 16,
   "metadata": {},
   "outputs": [],
   "source": [
    "gists = ['https://gist.github.com/recluze/1d2989c7e345c8c3c542',\n",
    "'https://gist.github.com/recluze/a98aa1804884ca3b3ad3',\n",
    "'https://gist.github.com/recluze/5051735efe3fc189b90d',\n",
    "'https://gist.github.com/recluze/460157afc6a7492555bb',\n",
    "'https://gist.github.com/recluze/5051735efe3fc189b90d',\n",
    "'https://gist.github.com/recluze/c9bc4130af995c36176d']"
   ]
  },
  {
   "cell_type": "code",
   "execution_count": 17,
   "metadata": {},
   "outputs": [],
   "source": [
    "def get_gists(g):\n",
    "    print(\"Starting request : %s\" %g)\n",
    "    r = requests.get(g)\n",
    "    g_length = len(r.text)\n",
    "    print(\"Got response of length: %d\" %g_length)"
   ]
  },
  {
   "cell_type": "code",
   "execution_count": 18,
   "metadata": {},
   "outputs": [
    {
     "name": "stdout",
     "output_type": "stream",
     "text": [
      "Starting request : https://gist.github.com/recluze/1d2989c7e345c8c3c542\n",
      "Got response of length: 225743\n",
      "Starting request : https://gist.github.com/recluze/a98aa1804884ca3b3ad3\n",
      "Got response of length: 103816\n",
      "Starting request : https://gist.github.com/recluze/5051735efe3fc189b90d\n",
      "Got response of length: 37741\n",
      "Starting request : https://gist.github.com/recluze/460157afc6a7492555bb\n",
      "Got response of length: 41153\n",
      "Starting request : https://gist.github.com/recluze/5051735efe3fc189b90d\n",
      "Got response of length: 37740\n",
      "Starting request : https://gist.github.com/recluze/c9bc4130af995c36176d\n",
      "Got response of length: 59849\n",
      "ALl Done\n",
      "code took 18568 ms to run.\n"
     ]
    }
   ],
   "source": [
    "with timeit():\n",
    "    for g in gists:\n",
    "        get_gists(g)\n",
    "    print (\"ALl Done\")"
   ]
  },
  {
   "cell_type": "code",
   "execution_count": 20,
   "metadata": {},
   "outputs": [],
   "source": [
    "#Lets d that parallel\n",
    "import threading"
   ]
  },
  {
   "cell_type": "code",
   "execution_count": 23,
   "metadata": {},
   "outputs": [
    {
     "name": "stdout",
     "output_type": "stream",
     "text": [
      "Starting request : https://gist.github.com/recluze/1d2989c7e345c8c3c542\n",
      "Starting request : https://gist.github.com/recluze/a98aa1804884ca3b3ad3Starting request : https://gist.github.com/recluze/5051735efe3fc189b90d\n",
      "Starting request : https://gist.github.com/recluze/460157afc6a7492555bb\n",
      "Starting request : https://gist.github.com/recluze/5051735efe3fc189b90d\n",
      "Starting request : https://gist.github.com/recluze/c9bc4130af995c36176d\n",
      "\n",
      "Got response of length: 37741\n",
      "Got response of length: 59848\n",
      "Got response of length: 225743\n",
      "Got response of length: 37741\n",
      "Got response of length: 41153\n",
      "Got response of length: 103815\n",
      "All Done\n",
      "code took 7578 ms to run.\n"
     ]
    }
   ],
   "source": [
    "with timeit():\n",
    "    threads = []\n",
    "    for g in gists:\n",
    "        # create workers\n",
    "        t = threading.Thread(target = get_gists, args=(g,))\n",
    "        \n",
    "        #Go\n",
    "        t.start()\n",
    "        \n",
    "        #keep a list for records\n",
    "        threads.append(t)\n",
    "        \n",
    "    for t in threads:\n",
    "        t.join()\n",
    "\n",
    "    print(\"All Done\")\n",
    "        \n",
    "        "
   ]
  },
  {
   "cell_type": "code",
   "execution_count": null,
   "metadata": {},
   "outputs": [],
   "source": []
  }
 ],
 "metadata": {
  "kernelspec": {
   "display_name": "Python 3",
   "language": "python",
   "name": "python3"
  },
  "language_info": {
   "codemirror_mode": {
    "name": "ipython",
    "version": 3
   },
   "file_extension": ".py",
   "mimetype": "text/x-python",
   "name": "python",
   "nbconvert_exporter": "python",
   "pygments_lexer": "ipython3",
   "version": "3.5.2"
  }
 },
 "nbformat": 4,
 "nbformat_minor": 2
}
