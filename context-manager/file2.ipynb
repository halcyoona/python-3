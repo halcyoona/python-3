{
 "cells": [
  {
   "cell_type": "code",
   "execution_count": 4,
   "metadata": {},
   "outputs": [
    {
     "name": "stdout",
     "output_type": "stream",
     "text": [
      "created temp directory : /tmp/tmp630syvtr\n",
      "opened file : /tmp/tmp630syvtr/somefile.txt\n",
      "deleting directory: /tmp/tmp630syvtr\n"
     ]
    }
   ],
   "source": [
    "import tempfile\n",
    "import shutil \n",
    "import os\n",
    "from contextlib import contextmanager\n",
    "\n",
    "try:\n",
    "    name = tempfile.mkdtemp()\n",
    "    print(\"created temp directory : %s\" %name)\n",
    "    \n",
    "    filename = os.path.join(name,\"somefile.txt\")\n",
    "    \n",
    "    \n",
    "    #Do something\n",
    "    \n",
    "    with open(filename, \"w\") as f:\n",
    "        print(\"opened file : %s\" %filename)\n",
    "        f.write(\"Dummy Text\")\n",
    "        \n",
    "        \n",
    "finally:\n",
    "    print(\"deleting directory: %s\" %name)\n",
    "    shutil.rmtree(name)"
   ]
  },
  {
   "cell_type": "code",
   "execution_count": 8,
   "metadata": {},
   "outputs": [],
   "source": [
    "@contextmanager\n",
    "def tempdr(filename):\n",
    "    try:\n",
    "        name = tempfile.mkdtemp()\n",
    "        print(\"created temp directory : %s\" %name)\n",
    "\n",
    "        filename = os.path.join(name,\"somefile.txt\")\n",
    "\n",
    "\n",
    "        #Do something\n",
    "\n",
    "        with open(filename, \"w\") as f:\n",
    "            print(\"opened file : %s\" %filename)\n",
    "            yield f\n",
    "    finally:\n",
    "        print(\"deleting directory: %s\" %name)\n",
    "        shutil.rmtree(name)\n",
    "\n",
    "    "
   ]
  },
  {
   "cell_type": "code",
   "execution_count": 9,
   "metadata": {},
   "outputs": [
    {
     "name": "stdout",
     "output_type": "stream",
     "text": [
      "created temp directory : /tmp/tmpez7nqzrp\n",
      "opened file : /tmp/tmpez7nqzrp/somefile.txt\n",
      "doing something with the file\n",
      "deleting directory: /tmp/tmpez7nqzrp\n"
     ]
    }
   ],
   "source": [
    "with tempdr(\"mehmood\") as f:\n",
    "    print(\"doing something with the file\")\n",
    "    "
   ]
  },
  {
   "cell_type": "code",
   "execution_count": null,
   "metadata": {},
   "outputs": [],
   "source": []
  }
 ],
 "metadata": {
  "kernelspec": {
   "display_name": "Python 3",
   "language": "python",
   "name": "python3"
  },
  "language_info": {
   "codemirror_mode": {
    "name": "ipython",
    "version": 3
   },
   "file_extension": ".py",
   "mimetype": "text/x-python",
   "name": "python",
   "nbconvert_exporter": "python",
   "pygments_lexer": "ipython3",
   "version": "3.5.2"
  }
 },
 "nbformat": 4,
 "nbformat_minor": 2
}
