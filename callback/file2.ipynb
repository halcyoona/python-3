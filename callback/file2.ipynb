{
 "cells": [
  {
   "cell_type": "code",
   "execution_count": 2,
   "metadata": {},
   "outputs": [],
   "source": [
    "def sqrt(x, guess =0.1):\n",
    "    print(\"trying \", guess, \"-- value \", guess * guess)\n",
    "    if good_enough(guess, x):\n",
    "        return guess\n",
    "    else:\n",
    "        guess = improve_guess(guess, x)\n",
    "        return sqrt(x, guess)\n",
    "    "
   ]
  },
  {
   "cell_type": "code",
   "execution_count": 3,
   "metadata": {},
   "outputs": [],
   "source": [
    "def good_enough(guess, x):\n",
    "    if abs(guess * guess - x) < 1:\n",
    "        return True\n",
    "    else:\n",
    "        False"
   ]
  },
  {
   "cell_type": "code",
   "execution_count": 5,
   "metadata": {},
   "outputs": [],
   "source": [
    "def avg(a, b):\n",
    "    return (a + b ) /2.0\n",
    "\n",
    "def improve_guess(guess, x):\n",
    "    return avg(guess, float(x)/guess)"
   ]
  },
  {
   "cell_type": "code",
   "execution_count": 6,
   "metadata": {},
   "outputs": [
    {
     "name": "stdout",
     "output_type": "stream",
     "text": [
      "trying  0.1 -- value  0.010000000000000002\n",
      "trying  180.05 -- value  32418.002500000002\n",
      "trying  90.12497222993613 -- value  8122.510619446759\n",
      "trying  45.26220878399787 -- value  2048.667544006214\n",
      "trying  23.028787149504215 -- value  530.3250375771704\n",
      "trying  12.296023969924157 -- value  151.19220546894942\n",
      "trying  7.611899827408357 -- value  57.94101898249938\n",
      "trying  6.170668368771986 -- value  38.07714811736313\n",
      "trying  6.002360173190208 -- value  36.028327648699985\n"
     ]
    },
    {
     "data": {
      "text/plain": [
       "6.002360173190208"
      ]
     },
     "execution_count": 6,
     "metadata": {},
     "output_type": "execute_result"
    }
   ],
   "source": [
    "sqrt(36)"
   ]
  },
  {
   "cell_type": "code",
   "execution_count": 17,
   "metadata": {},
   "outputs": [],
   "source": [
    "def sqrt(x, is_ge = good_enough, guess =0.1):\n",
    "    print(\"trying \", guess, \"-- value \", guess * guess)\n",
    "    if is_ge(guess, x):\n",
    "        return guess\n",
    "    else:\n",
    "        guess = improve_guess(guess, x)\n",
    "        return sqrt(x, is_ge, guess)\n",
    "\n",
    "#if the function in parameter is not given use the good_enough function else use the given function to calculate good_enough"
   ]
  },
  {
   "cell_type": "code",
   "execution_count": 20,
   "metadata": {},
   "outputs": [],
   "source": [
    "\n",
    "#By the nuclear reactor people\n",
    "def very_accurate_good_enough(guess, x):\n",
    "    return abs(guess * guess - x)  < 0.000000001"
   ]
  },
  {
   "cell_type": "code",
   "execution_count": 21,
   "metadata": {},
   "outputs": [
    {
     "name": "stdout",
     "output_type": "stream",
     "text": [
      "trying  0.1 -- value  0.010000000000000002\n",
      "trying  180.05 -- value  32418.002500000002\n",
      "trying  90.12497222993613 -- value  8122.510619446759\n",
      "trying  45.26220878399787 -- value  2048.667544006214\n",
      "trying  23.028787149504215 -- value  530.3250375771704\n",
      "trying  12.296023969924157 -- value  151.19220546894942\n",
      "trying  7.611899827408357 -- value  57.94101898249938\n",
      "trying  6.170668368771986 -- value  38.07714811736313\n",
      "trying  6.002360173190208 -- value  36.028327648699985\n",
      "trying  6.00000046401893 -- value  36.00000556822737\n",
      "trying  6.000000000000018 -- value  36.00000000000021\n"
     ]
    },
    {
     "data": {
      "text/plain": [
       "6.000000000000018"
      ]
     },
     "execution_count": 21,
     "metadata": {},
     "output_type": "execute_result"
    }
   ],
   "source": [
    "sqrt(36, very_accurate_good_enough)"
   ]
  },
  {
   "cell_type": "code",
   "execution_count": 23,
   "metadata": {},
   "outputs": [],
   "source": [
    "#The variable is_ge is termed as a \"callback\" --some function that you send to another piece of code.That piece of code called this function back at a later point in time"
   ]
  },
  {
   "cell_type": "code",
   "execution_count": null,
   "metadata": {},
   "outputs": [],
   "source": []
  }
 ],
 "metadata": {
  "kernelspec": {
   "display_name": "Python 3",
   "language": "python",
   "name": "python3"
  },
  "language_info": {
   "codemirror_mode": {
    "name": "ipython",
    "version": 3
   },
   "file_extension": ".py",
   "mimetype": "text/x-python",
   "name": "python",
   "nbconvert_exporter": "python",
   "pygments_lexer": "ipython3",
   "version": "3.5.2"
  }
 },
 "nbformat": 4,
 "nbformat_minor": 2
}
